{
  "nbformat": 4,
  "nbformat_minor": 0,
  "metadata": {
    "colab": {
      "provenance": [],
      "authorship_tag": "ABX9TyMYk9l4/hT+2x2ISibM+BtI",
      "include_colab_link": true
    },
    "kernelspec": {
      "name": "python3",
      "display_name": "Python 3"
    },
    "language_info": {
      "name": "python"
    }
  },
  "cells": [
    {
      "cell_type": "markdown",
      "metadata": {
        "id": "view-in-github",
        "colab_type": "text"
      },
      "source": [
        "<a href=\"https://colab.research.google.com/github/anonymisedaccount/gametheorycoursework1/blob/main/Sentiment_Analysis.ipynb\" target=\"_parent\"><img src=\"https://colab.research.google.com/assets/colab-badge.svg\" alt=\"Open In Colab\"/></a>"
      ]
    },
    {
      "cell_type": "code",
      "execution_count": 1,
      "metadata": {
        "id": "ToGq1Cwjctbv"
      },
      "outputs": [],
      "source": [
        "#Importing necessary libraries\n",
        "%%capture\n",
        "!pip install spacy\n",
        "!pip install scattertext\n",
        "!pip install tika\n",
        "!pip install spacytextblob\n",
        "!python -m spacy download en_core_web_sm\n",
        "import spacy\n",
        "import json\n",
        "import pylab\n",
        "from IPython.core.display import display, HTML\n",
        "import nltk\n",
        "from tika import parser\n",
        "import numpy as np\n",
        "import pandas as pd\n",
        "import matplotlib.pyplot as plt\n",
        "from spacytextblob.spacytextblob import SpacyTextBlob\n",
        "import requests\n",
        "import traceback\n",
        "import time\n",
        "import signal\n",
        "\n",
        "%matplotlib inline\n",
        "pylab.rcParams['figure.figsize'] = (10., 8.)\n",
        "nlp = spacy.load(\"en_core_web_sm\")\n",
        "nlp.add_pipe('spacytextblob')\n",
        "import re\n",
        "\n",
        "#Creating timeout function to keep code running efficiently\n",
        "class TimeoutException(Exception):\n",
        "    pass\n",
        "\n",
        "def timeout_handler(signum, frame):\n",
        "    raise TimeoutException(\"URL processing timed out\")\n",
        "\n",
        "def process_urls(csv, timeout_seconds=60):\n",
        "    try:\n",
        "        df = pd.read_csv(csv, encoding='utf-8-sig')\n",
        "        if 'URL' in df.columns:\n",
        "            df = df.rename(columns={'URL': 'url'})\n",
        "    except:\n",
        "        return None\n",
        "\n",
        "    if 'url' not in df.columns:\n",
        "        return None\n",
        "\n",
        "    processed_urls = set()\n",
        "    results = []\n",
        "\n",
        "    for index, row in df.iterrows():\n",
        "        url = row['url']\n",
        "\n",
        "        if url in processed_urls:\n",
        "            continue\n",
        "\n",
        "        starttime = time.time()\n",
        "        try:\n",
        "            signal.signal(signal.SIGALRM, timeout_handler)\n",
        "            signal.alarm(timeout_seconds)\n",
        "\n",
        "            raw = parser.from_file(url)\n",
        "            text = raw['content']\n",
        "\n",
        "            signal.alarm(0)\n",
        "\n",
        "#Data cleaning\n",
        "            if text:\n",
        "                text = \" \".join(text.split())\n",
        "                text = re.sub(r\"[^a-zA-Z ]+\", \"\", text)\n",
        "                text = text.lower()\n",
        "\n",
        "#Calculate polarity and sentiment scores per article\n",
        "            if text:\n",
        "                doc = nlp(text)\n",
        "                polarity = doc._.blob.polarity\n",
        "                subjectivity = doc._.blob.subjectivity\n",
        "\n",
        "#Store results\n",
        "                results.append([url, polarity, subjectivity])\n",
        "                processed_urls.add(url)\n",
        "\n",
        "#Error handling\n",
        "        except TimeoutException:\n",
        "            continue\n",
        "        except Exception as e:\n",
        "            continue\n",
        "        finally:\n",
        "            endtime = time.time()\n",
        "            processingtime = endtime - starttime\n",
        "            print(processingtime)\n",
        "\n",
        "#Create dataframe to store results\n",
        "    new_df = pd.DataFrame(results, columns=['url', 'polarity', 'subjectivity'])\n",
        "    return new_df\n",
        "\n",
        "    pd.set_option(\"display.max_rows\", None)\n"
      ]
    },
    {
      "cell_type": "code",
      "source": [
        "#Upload dataset\n",
        "from google.colab import files\n",
        "uploaded = files.upload()\n",
        "\n",
        "for fn in uploaded.keys():\n",
        "    processeddata = process_urls(fn)\n",
        "\n",
        "print(processeddata)"
      ],
      "metadata": {
        "colab": {
          "base_uri": "https://localhost:8080/",
          "height": 1000
        },
        "id": "ZnaOADuLeG9g",
        "outputId": "86efa7a4-8233-4f3d-a77c-3fd33c1caf51"
      },
      "execution_count": null,
      "outputs": [
        {
          "output_type": "display_data",
          "data": {
            "text/plain": [
              "<IPython.core.display.HTML object>"
            ],
            "text/html": [
              "\n",
              "     <input type=\"file\" id=\"files-776ab600-4015-4b83-b97d-4a31940b67c3\" name=\"files[]\" multiple disabled\n",
              "        style=\"border:none\" />\n",
              "     <output id=\"result-776ab600-4015-4b83-b97d-4a31940b67c3\">\n",
              "      Upload widget is only available when the cell has been executed in the\n",
              "      current browser session. Please rerun this cell to enable.\n",
              "      </output>\n",
              "      <script>// Copyright 2017 Google LLC\n",
              "//\n",
              "// Licensed under the Apache License, Version 2.0 (the \"License\");\n",
              "// you may not use this file except in compliance with the License.\n",
              "// You may obtain a copy of the License at\n",
              "//\n",
              "//      http://www.apache.org/licenses/LICENSE-2.0\n",
              "//\n",
              "// Unless required by applicable law or agreed to in writing, software\n",
              "// distributed under the License is distributed on an \"AS IS\" BASIS,\n",
              "// WITHOUT WARRANTIES OR CONDITIONS OF ANY KIND, either express or implied.\n",
              "// See the License for the specific language governing permissions and\n",
              "// limitations under the License.\n",
              "\n",
              "/**\n",
              " * @fileoverview Helpers for google.colab Python module.\n",
              " */\n",
              "(function(scope) {\n",
              "function span(text, styleAttributes = {}) {\n",
              "  const element = document.createElement('span');\n",
              "  element.textContent = text;\n",
              "  for (const key of Object.keys(styleAttributes)) {\n",
              "    element.style[key] = styleAttributes[key];\n",
              "  }\n",
              "  return element;\n",
              "}\n",
              "\n",
              "// Max number of bytes which will be uploaded at a time.\n",
              "const MAX_PAYLOAD_SIZE = 100 * 1024;\n",
              "\n",
              "function _uploadFiles(inputId, outputId) {\n",
              "  const steps = uploadFilesStep(inputId, outputId);\n",
              "  const outputElement = document.getElementById(outputId);\n",
              "  // Cache steps on the outputElement to make it available for the next call\n",
              "  // to uploadFilesContinue from Python.\n",
              "  outputElement.steps = steps;\n",
              "\n",
              "  return _uploadFilesContinue(outputId);\n",
              "}\n",
              "\n",
              "// This is roughly an async generator (not supported in the browser yet),\n",
              "// where there are multiple asynchronous steps and the Python side is going\n",
              "// to poll for completion of each step.\n",
              "// This uses a Promise to block the python side on completion of each step,\n",
              "// then passes the result of the previous step as the input to the next step.\n",
              "function _uploadFilesContinue(outputId) {\n",
              "  const outputElement = document.getElementById(outputId);\n",
              "  const steps = outputElement.steps;\n",
              "\n",
              "  const next = steps.next(outputElement.lastPromiseValue);\n",
              "  return Promise.resolve(next.value.promise).then((value) => {\n",
              "    // Cache the last promise value to make it available to the next\n",
              "    // step of the generator.\n",
              "    outputElement.lastPromiseValue = value;\n",
              "    return next.value.response;\n",
              "  });\n",
              "}\n",
              "\n",
              "/**\n",
              " * Generator function which is called between each async step of the upload\n",
              " * process.\n",
              " * @param {string} inputId Element ID of the input file picker element.\n",
              " * @param {string} outputId Element ID of the output display.\n",
              " * @return {!Iterable<!Object>} Iterable of next steps.\n",
              " */\n",
              "function* uploadFilesStep(inputId, outputId) {\n",
              "  const inputElement = document.getElementById(inputId);\n",
              "  inputElement.disabled = false;\n",
              "\n",
              "  const outputElement = document.getElementById(outputId);\n",
              "  outputElement.innerHTML = '';\n",
              "\n",
              "  const pickedPromise = new Promise((resolve) => {\n",
              "    inputElement.addEventListener('change', (e) => {\n",
              "      resolve(e.target.files);\n",
              "    });\n",
              "  });\n",
              "\n",
              "  const cancel = document.createElement('button');\n",
              "  inputElement.parentElement.appendChild(cancel);\n",
              "  cancel.textContent = 'Cancel upload';\n",
              "  const cancelPromise = new Promise((resolve) => {\n",
              "    cancel.onclick = () => {\n",
              "      resolve(null);\n",
              "    };\n",
              "  });\n",
              "\n",
              "  // Wait for the user to pick the files.\n",
              "  const files = yield {\n",
              "    promise: Promise.race([pickedPromise, cancelPromise]),\n",
              "    response: {\n",
              "      action: 'starting',\n",
              "    }\n",
              "  };\n",
              "\n",
              "  cancel.remove();\n",
              "\n",
              "  // Disable the input element since further picks are not allowed.\n",
              "  inputElement.disabled = true;\n",
              "\n",
              "  if (!files) {\n",
              "    return {\n",
              "      response: {\n",
              "        action: 'complete',\n",
              "      }\n",
              "    };\n",
              "  }\n",
              "\n",
              "  for (const file of files) {\n",
              "    const li = document.createElement('li');\n",
              "    li.append(span(file.name, {fontWeight: 'bold'}));\n",
              "    li.append(span(\n",
              "        `(${file.type || 'n/a'}) - ${file.size} bytes, ` +\n",
              "        `last modified: ${\n",
              "            file.lastModifiedDate ? file.lastModifiedDate.toLocaleDateString() :\n",
              "                                    'n/a'} - `));\n",
              "    const percent = span('0% done');\n",
              "    li.appendChild(percent);\n",
              "\n",
              "    outputElement.appendChild(li);\n",
              "\n",
              "    const fileDataPromise = new Promise((resolve) => {\n",
              "      const reader = new FileReader();\n",
              "      reader.onload = (e) => {\n",
              "        resolve(e.target.result);\n",
              "      };\n",
              "      reader.readAsArrayBuffer(file);\n",
              "    });\n",
              "    // Wait for the data to be ready.\n",
              "    let fileData = yield {\n",
              "      promise: fileDataPromise,\n",
              "      response: {\n",
              "        action: 'continue',\n",
              "      }\n",
              "    };\n",
              "\n",
              "    // Use a chunked sending to avoid message size limits. See b/62115660.\n",
              "    let position = 0;\n",
              "    do {\n",
              "      const length = Math.min(fileData.byteLength - position, MAX_PAYLOAD_SIZE);\n",
              "      const chunk = new Uint8Array(fileData, position, length);\n",
              "      position += length;\n",
              "\n",
              "      const base64 = btoa(String.fromCharCode.apply(null, chunk));\n",
              "      yield {\n",
              "        response: {\n",
              "          action: 'append',\n",
              "          file: file.name,\n",
              "          data: base64,\n",
              "        },\n",
              "      };\n",
              "\n",
              "      let percentDone = fileData.byteLength === 0 ?\n",
              "          100 :\n",
              "          Math.round((position / fileData.byteLength) * 100);\n",
              "      percent.textContent = `${percentDone}% done`;\n",
              "\n",
              "    } while (position < fileData.byteLength);\n",
              "  }\n",
              "\n",
              "  // All done.\n",
              "  yield {\n",
              "    response: {\n",
              "      action: 'complete',\n",
              "    }\n",
              "  };\n",
              "}\n",
              "\n",
              "scope.google = scope.google || {};\n",
              "scope.google.colab = scope.google.colab || {};\n",
              "scope.google.colab._files = {\n",
              "  _uploadFiles,\n",
              "  _uploadFilesContinue,\n",
              "};\n",
              "})(self);\n",
              "</script> "
            ]
          },
          "metadata": {}
        },
        {
          "output_type": "stream",
          "name": "stderr",
          "text": [
            "INFO:tika.tika:Retrieving https://digital-strategy.ec.europa.eu/en/policies/regulatory-framework-ai#:~:text=The%20AI%20Act%20is%20the,legal%20framework%20on%20AI%20worldwide. to /tmp/en-policies-regulatory-framework-ai.\n"
          ]
        },
        {
          "output_type": "stream",
          "name": "stdout",
          "text": [
            "Saving Game Theory.csv to Game Theory (2).csv\n"
          ]
        },
        {
          "output_type": "stream",
          "name": "stderr",
          "text": [
            "INFO:tika.tika:Retrieving https://www.gov.uk/government/publications/ai-regulation-a-pro-innovation-approach/white-paper to /tmp/government-publications-ai-regulation-a-pro-innovation-approach-white-paper.\n"
          ]
        },
        {
          "output_type": "stream",
          "name": "stdout",
          "text": [
            "0.6001324653625488\n"
          ]
        },
        {
          "output_type": "stream",
          "name": "stderr",
          "text": [
            "INFO:tika.tika:Retrieving https://ico.org.uk/media/about-the-ico/consultation-responses/4029424/regulating-ai-the-icos-strategic-approach.pdf to /tmp/media-about-the-ico-consultation-responses-4029424-regulating-ai-the-icos-strategic-approach.pdf.\n"
          ]
        },
        {
          "output_type": "stream",
          "name": "stdout",
          "text": [
            "7.294912099838257\n"
          ]
        },
        {
          "output_type": "stream",
          "name": "stderr",
          "text": [
            "INFO:tika.tika:Retrieving https://www.brookings.edu/articles/the-three-challenges-of-ai-regulation/ to /tmp/articles-the-three-challenges-of-ai-regulation.\n",
            "INFO:tika.tika:Retrieving https://www.techuk.org/resource/ai-regulation-a-framework-for-responsible-artificial-intelligence.html to /tmp/resource-ai-regulation-a-framework-for-responsible-artificial-intelligence.html.\n"
          ]
        },
        {
          "output_type": "stream",
          "name": "stdout",
          "text": [
            "0.28388166427612305\n",
            "0.17410898208618164\n"
          ]
        },
        {
          "output_type": "stream",
          "name": "stderr",
          "text": [
            "INFO:tika.tika:Retrieving https://www.deloitte.com/uk/en/Industries/financial-services/blogs/the-uks-framework-for-ai-regulation.html to /tmp/uk-en-industries-financial-services-blogs-the-uks-framework-for-ai-regulation.html.\n"
          ]
        },
        {
          "output_type": "stream",
          "name": "stdout",
          "text": [
            "0.1273641586303711\n"
          ]
        },
        {
          "output_type": "stream",
          "name": "stderr",
          "text": [
            "INFO:tika.tika:Retrieving https://www.adalovelaceinstitute.org/report/regulating-ai-in-the-uk/ to /tmp/report-regulating-ai-in-the-uk.\n"
          ]
        },
        {
          "output_type": "stream",
          "name": "stdout",
          "text": [
            "2.563433885574341\n"
          ]
        },
        {
          "output_type": "stream",
          "name": "stderr",
          "text": [
            "INFO:tika.tika:Retrieving https://www.twobirds.com/en/trending-topics/digital-regulations/artificial-intelligence-regulation to /tmp/en-trending-topics-digital-regulations-artificial-intelligence-regulation.\n",
            "INFO:tika.tika:Retrieving https://www.techtarget.com/searchenterpriseai/feature/AI-regulation-What-businesses-need-to-know to /tmp/searchenterpriseai-feature-ai-regulation-what-businesses-need-to-know.\n"
          ]
        },
        {
          "output_type": "stream",
          "name": "stdout",
          "text": [
            "4.331480503082275\n",
            "0.1354525089263916\n"
          ]
        },
        {
          "output_type": "stream",
          "name": "stderr",
          "text": [
            "INFO:tika.tika:Retrieving https://www.osborneclarke.com/insights/whats-horizon-ai-regulation-uk to /tmp/insights-whats-horizon-ai-regulation-uk.\n"
          ]
        },
        {
          "output_type": "stream",
          "name": "stdout",
          "text": [
            "0.13030457496643066\n"
          ]
        },
        {
          "output_type": "stream",
          "name": "stderr",
          "text": [
            "INFO:tika.tika:Retrieving https://lordslibrary.parliament.uk/artificial-intelligence-development-risks-and-regulation/ to /tmp/artificial-intelligence-development-risks-and-regulation.\n",
            "INFO:tika.tika:Retrieving https://www.wearedevelopers.com/en/magazine/271/eu-ai-regulation-artificial-intelligence-regulations to /tmp/en-magazine-271-eu-ai-regulation-artificial-intelligence-regulations.\n"
          ]
        },
        {
          "output_type": "stream",
          "name": "stdout",
          "text": [
            "1.210158109664917\n",
            "0.17480754852294922\n"
          ]
        },
        {
          "output_type": "stream",
          "name": "stderr",
          "text": [
            "INFO:tika.tika:Retrieving https://www.csis.org/blogs/strategic-technologies-blog/ai-regulation-coming-what-likely-outcome to /tmp/blogs-strategic-technologies-blog-ai-regulation-coming-what-likely-outcome.\n"
          ]
        },
        {
          "output_type": "stream",
          "name": "stdout",
          "text": [
            "0.7221174240112305\n"
          ]
        },
        {
          "output_type": "stream",
          "name": "stderr",
          "text": [
            "INFO:tika.tika:Retrieving https://www.frontier-economics.com/uk/en/news-and-insights/articles/article-i10152-we-ask-chatgpt-should-ai-be-regulated/ to /tmp/uk-en-news-and-insights-articles-article-i10152-we-ask-chatgpt-should-ai-be-regulated.\n"
          ]
        },
        {
          "output_type": "stream",
          "name": "stdout",
          "text": [
            "0.9315526485443115\n"
          ]
        },
        {
          "output_type": "stream",
          "name": "stderr",
          "text": [
            "INFO:tika.tika:Retrieving https://royalsocietypublishing.org/doi/10.1098/rsta.2017.0360 to /tmp/doi-10.1098-rsta.2017.0360.\n",
            "INFO:tika.tika:Retrieving https://www.weforum.org/stories/2024/05/why-regulating-ai-can-be-surprisingly-straightforward-providing-you-have-eternal-vigilance/ to /tmp/stories-2024-05-why-regulating-ai-can-be-surprisingly-straightforward-providing-you-have-eternal-vigilance.\n"
          ]
        },
        {
          "output_type": "stream",
          "name": "stdout",
          "text": [
            "0.26384854316711426\n",
            "0.15367913246154785\n"
          ]
        },
        {
          "output_type": "stream",
          "name": "stderr",
          "text": [
            "INFO:tika.tika:Retrieving https://www.turing.ac.uk/news/publications/common-regulatory-capacity-ai to /tmp/news-publications-common-regulatory-capacity-ai.\n"
          ]
        },
        {
          "output_type": "stream",
          "name": "stdout",
          "text": [
            "0.2916133403778076\n"
          ]
        },
        {
          "output_type": "stream",
          "name": "stderr",
          "text": [
            "INFO:tika.tika:Retrieving https://charitydigital.org.uk/topics/the-problems-of-ai-regulation-11053 to /tmp/topics-the-problems-of-ai-regulation-11053.\n"
          ]
        },
        {
          "output_type": "stream",
          "name": "stdout",
          "text": [
            "0.3229823112487793\n"
          ]
        },
        {
          "output_type": "stream",
          "name": "stderr",
          "text": [
            "INFO:tika.tika:Retrieving https://www.bbc.co.uk/worklife/article/20240118-davos-2024-can-and-should-leaders-aim-to-regulate-ai-directly to /tmp/worklife-article-20240118-davos-2024-can-and-should-leaders-aim-to-regulate-ai-directly.\n"
          ]
        },
        {
          "output_type": "stream",
          "name": "stdout",
          "text": [
            "1.0553650856018066\n"
          ]
        },
        {
          "output_type": "stream",
          "name": "stderr",
          "text": [
            "INFO:tika.tika:Retrieving https://www.geostrategy.org.uk/britains-world/how-should-ai-be-regulated/ to /tmp/britains-world-how-should-ai-be-regulated.\n",
            "INFO:tika.tika:Retrieving https://www.ft.com/content/121fd932-f7b1-4756-8fe2-884f5a102456 to /tmp/content-121fd932-f7b1-4756-8fe2-884f5a102456.\n"
          ]
        },
        {
          "output_type": "stream",
          "name": "stdout",
          "text": [
            "0.37587499618530273\n",
            "0.1815323829650879\n"
          ]
        },
        {
          "output_type": "stream",
          "name": "stderr",
          "text": [
            "INFO:tika.tika:Retrieving https://ico.org.uk/media2/migrated/4029424/regulating-ai-the-icos-strategic-approach.pdf to /tmp/media2-migrated-4029424-regulating-ai-the-icos-strategic-approach.pdf.\n",
            "INFO:tika.tika:Retrieving https://transform.england.nhs.uk/ai-lab/ai-lab-programmes/regulating-the-ai-ecosystem/the-ai-and-digital-regulations-service/ to /tmp/ai-lab-ai-lab-programmes-regulating-the-ai-ecosystem-the-ai-and-digital-regulations-service.\n"
          ]
        },
        {
          "output_type": "stream",
          "name": "stdout",
          "text": [
            "1.2217326164245605\n",
            "0.13933682441711426\n"
          ]
        },
        {
          "output_type": "stream",
          "name": "stderr",
          "text": [
            "INFO:tika.tika:Retrieving https://assets.publishing.service.gov.uk/media/65c1e399c43191000d1a45f4/a-pro-innovation-approach-to-ai-regulation-amended-governement-response-web-ready.pdf to /tmp/media-65c1e399c43191000d1a45f4-a-pro-innovation-approach-to-ai-regulation-amended-governement-response-web-ready.pdf.\n"
          ]
        },
        {
          "output_type": "stream",
          "name": "stdout",
          "text": [
            "0.5011446475982666\n"
          ]
        },
        {
          "output_type": "stream",
          "name": "stderr",
          "text": [
            "INFO:tika.tika:Retrieving https://www.instituteforgovernment.org.uk/explainer/artificial-intelligence-regulation to /tmp/explainer-artificial-intelligence-regulation.\n"
          ]
        },
        {
          "output_type": "stream",
          "name": "stdout",
          "text": [
            "12.098310708999634\n"
          ]
        },
        {
          "output_type": "stream",
          "name": "stderr",
          "text": [
            "INFO:tika.tika:Retrieving https://www.artificial-intelligence-act.com to /tmp/file_1749051370.\n"
          ]
        },
        {
          "output_type": "stream",
          "name": "stdout",
          "text": [
            "2.234720230102539\n"
          ]
        },
        {
          "output_type": "stream",
          "name": "stderr",
          "text": [
            "INFO:tika.tika:Retrieving https://www.cnil.fr/en/entry-force-european-ai-regulation-first-questions-and-answers-cnil to /tmp/en-entry-force-european-ai-regulation-first-questions-and-answers-cnil.\n",
            "INFO:tika.tika:Retrieving https://www.ey.com/en_us/insights/ai/how-to-navigate-global-trends-in-artificial-intelligence-regulation to /tmp/en_us-insights-ai-how-to-navigate-global-trends-in-artificial-intelligence-regulation.\n"
          ]
        },
        {
          "output_type": "stream",
          "name": "stdout",
          "text": [
            "3.3686959743499756\n",
            "0.1586594581604004\n"
          ]
        },
        {
          "output_type": "stream",
          "name": "stderr",
          "text": [
            "INFO:tika.tika:Retrieving https://assets.publishing.service.gov.uk/media/65c0b6bd63a23d0013c821a0/implementing_the_uk_ai_regulatory_principles_guidance_for_regulators.pdf to /tmp/media-65c0b6bd63a23d0013c821a0-implementing_the_uk_ai_regulatory_principles_guidance_for_regulators.pdf.\n"
          ]
        },
        {
          "output_type": "stream",
          "name": "stdout",
          "text": [
            "2.3597829341888428\n"
          ]
        },
        {
          "output_type": "stream",
          "name": "stderr",
          "text": [
            "INFO:tika.tika:Retrieving https://www.fca.org.uk/publications/corporate-documents/artificial-intelligence-ai-update-further-governments-response-ai-white-paper to /tmp/publications-corporate-documents-artificial-intelligence-ai-update-further-governments-response-ai-white-paper.\n",
            "INFO:tika.tika:Retrieving https://www.rpclegal.com/thinking/artificial-intelligence/ai-guide/part-1-uk-ai-regulation/ to /tmp/thinking-artificial-intelligence-ai-guide-part-1-uk-ai-regulation.\n"
          ]
        },
        {
          "output_type": "stream",
          "name": "stdout",
          "text": [
            "1.8297123908996582\n",
            "0.16524267196655273\n"
          ]
        },
        {
          "output_type": "stream",
          "name": "stderr",
          "text": [
            "INFO:tika.tika:Retrieving https://www.freshfields.com/en-gb/our-thinking/campaigns/technology-quotient/tech-and-platform-regulation/artificial-intelligence-regulation/ to /tmp/en-gb-our-thinking-campaigns-technology-quotient-tech-and-platform-regulation-artificial-intelligence-regulation.\n",
            "INFO:tika.tika:Retrieving https://kennedyslaw.com/en/thought-leadership/article/2025/the-artificial-intelligence-regulation-bill-closing-the-uks-ai-regulation-gap/ to /tmp/en-thought-leadership-article-2025-the-artificial-intelligence-regulation-bill-closing-the-uks-ai-regulation-gap.\n"
          ]
        },
        {
          "output_type": "stream",
          "name": "stdout",
          "text": [
            "1.1636443138122559\n",
            "0.16533207893371582\n"
          ]
        },
        {
          "output_type": "stream",
          "name": "stderr",
          "text": [
            "INFO:tika.tika:Retrieving https://www.ey.com/en_ch/insights/forensic-integrity-services/the-eu-ai-act-what-it-means-for-your-business to /tmp/en_ch-insights-forensic-integrity-services-the-eu-ai-act-what-it-means-for-your-business.\n"
          ]
        },
        {
          "output_type": "stream",
          "name": "stdout",
          "text": [
            "1.4916250705718994\n"
          ]
        },
        {
          "output_type": "stream",
          "name": "stderr",
          "text": [
            "INFO:tika.tika:Retrieving https://ico.org.uk/for-organisations/uk-gdpr-guidance-and-resources/artificial-intelligence/guidance-on-ai-and-data-protection/ to /tmp/for-organisations-uk-gdpr-guidance-and-resources-artificial-intelligence-guidance-on-ai-and-data-protection.\n",
            "INFO:tika.tika:Retrieving https://www.brookings.edu/articles/the-eu-and-us-diverge-on-ai-regulation-a-transatlantic-comparison-and-steps-to-alignment/ to /tmp/articles-the-eu-and-us-diverge-on-ai-regulation-a-transatlantic-comparison-and-steps-to-alignment.\n"
          ]
        },
        {
          "output_type": "stream",
          "name": "stdout",
          "text": [
            "1.419135332107544\n",
            "0.19244742393493652\n"
          ]
        },
        {
          "output_type": "stream",
          "name": "stderr",
          "text": [
            "INFO:tika.tika:Retrieving https://www.lw.com/en/insights/eu-ai-act-published-a-new-era-for-ai-regulation-begins to /tmp/en-insights-eu-ai-act-published-a-new-era-for-ai-regulation-begins.\n"
          ]
        },
        {
          "output_type": "stream",
          "name": "stdout",
          "text": [
            "0.1730337142944336\n"
          ]
        },
        {
          "output_type": "stream",
          "name": "stderr",
          "text": [
            "INFO:tika.tika:Retrieving https://www.cnbc.com/2025/01/14/uk-will-do-own-thing-on-ai-regulation-what-could-that-mean.html to /tmp/2025-01-14-uk-will-do-own-thing-on-ai-regulation-what-could-that-mean.html.\n",
            "INFO:tika.tika:Retrieving https://www.lawgazette.co.uk/news-focus/in-depth-ai-regulation-falters-as-uk-snubs-international-accord/5122381.article to /tmp/news-focus-in-depth-ai-regulation-falters-as-uk-snubs-international-accord-5122381.article.\n"
          ]
        },
        {
          "output_type": "stream",
          "name": "stdout",
          "text": [
            "2.604193925857544\n",
            "0.12904882431030273\n"
          ]
        },
        {
          "output_type": "stream",
          "name": "stderr",
          "text": [
            "INFO:tika.tika:Retrieving https://www.burges-salmon.com/articles/102j26r/the-artificial-intelligence-ai-law-regulation-and-policy-glossary-march-2024/ to /tmp/articles-102j26r-the-artificial-intelligence-ai-law-regulation-and-policy-glossary-march-2024.\n",
            "INFO:tika.tika:Retrieving https://www.diligent.com/en-gb/resources/blog/uk-ai-regulation to /tmp/en-gb-resources-blog-uk-ai-regulation.\n"
          ]
        },
        {
          "output_type": "stream",
          "name": "stdout",
          "text": [
            "1.1689345836639404\n",
            "0.19563984870910645\n"
          ]
        },
        {
          "output_type": "stream",
          "name": "stderr",
          "text": [
            "INFO:tika.tika:Retrieving https://hbr.org/2021/09/ai-regulation-is-coming to /tmp/2021-09-ai-regulation-is-coming.\n"
          ]
        },
        {
          "output_type": "stream",
          "name": "stdout",
          "text": [
            "1.4200868606567383\n"
          ]
        },
        {
          "output_type": "stream",
          "name": "stderr",
          "text": [
            "INFO:tika.tika:Retrieving https://institute.global/insights/tech-and-digitalisation/how-leaders-in-the-global-south-can-devise-ai-regulation-that-enables-innovation to /tmp/insights-tech-and-digitalisation-how-leaders-in-the-global-south-can-devise-ai-regulation-that-enables-innovation.\n",
            "INFO:tika.tika:Retrieving https://www.taylorwessing.com/en/interface/2023/ai---are-we-getting-the-balance-between-regulation-and-innovation-right/ai-regulation-around-the-world to /tmp/en-interface-2023-ai-are-we-getting-the-balance-between-regulation-and-innovation-right-ai-regulation-around-the-world.\n"
          ]
        },
        {
          "output_type": "stream",
          "name": "stdout",
          "text": [
            "0.9505188465118408\n",
            "0.1317751407623291\n"
          ]
        },
        {
          "output_type": "stream",
          "name": "stderr",
          "text": [
            "INFO:tika.tika:Retrieving https://www.lawsociety.org.uk/campaigns/consultation-responses/a-pro-innovation-approach-to-ai-regulation to /tmp/campaigns-consultation-responses-a-pro-innovation-approach-to-ai-regulation.\n"
          ]
        },
        {
          "output_type": "stream",
          "name": "stdout",
          "text": [
            "2.4784860610961914\n"
          ]
        },
        {
          "output_type": "stream",
          "name": "stderr",
          "text": [
            "INFO:tika.tika:Retrieving https://theconversation.com/beyond-ai-regulation-how-government-and-industry-can-team-up-to-make-the-technology-safer-without-hindering-innovation-251010 to /tmp/beyond-ai-regulation-how-government-and-industry-can-team-up-to-make-the-technology-safer-without-hindering-innovation-251010.\n"
          ]
        },
        {
          "output_type": "stream",
          "name": "stdout",
          "text": [
            "2.1293282508850098\n"
          ]
        },
        {
          "output_type": "stream",
          "name": "stderr",
          "text": [
            "INFO:tika.tika:Retrieving https://www.nist.gov/itl/ai-risk-management-framework to /tmp/itl-ai-risk-management-framework.\n",
            "INFO:tika.tika:Retrieving https://www.mondaq.com/uk/new-technology/1578994/ai-regulation-in-2025 to /tmp/uk-new-technology-1578994-ai-regulation-in-2025.\n"
          ]
        },
        {
          "output_type": "stream",
          "name": "stdout",
          "text": [
            "0.5083832740783691\n",
            "0.13980698585510254\n"
          ]
        },
        {
          "output_type": "stream",
          "name": "stderr",
          "text": [
            "INFO:tika.tika:Retrieving https://arbor.law/insights/what-is-ai-regulation-in-the-uk/ to /tmp/insights-what-is-ai-regulation-in-the-uk.\n"
          ]
        },
        {
          "output_type": "stream",
          "name": "stdout",
          "text": [
            "0.10771512985229492\n"
          ]
        },
        {
          "output_type": "stream",
          "name": "stderr",
          "text": [
            "INFO:tika.tika:Retrieving https://www.unesco.org/en/artificial-intelligence/recommendation-ethics to /tmp/en-artificial-intelligence-recommendation-ethics.\n"
          ]
        },
        {
          "output_type": "stream",
          "name": "stdout",
          "text": [
            "1.4444639682769775\n"
          ]
        },
        {
          "output_type": "stream",
          "name": "stderr",
          "text": [
            "INFO:tika.tika:Retrieving https://www.technologyreview.com/2024/01/05/1086203/whats-next-ai-regulation-2024/ to /tmp/2024-01-05-1086203-whats-next-ai-regulation-2024.\n"
          ]
        },
        {
          "output_type": "stream",
          "name": "stdout",
          "text": [
            "1.462435245513916\n"
          ]
        },
        {
          "output_type": "stream",
          "name": "stderr",
          "text": [
            "INFO:tika.tika:Retrieving https://www.lexology.com/library/detail.aspx?g=cf11edd7-a44b-44f8-ba3a-fe253f905bcb to /tmp/library-detail.aspx.\n",
            "INFO:tika.tika:Retrieving https://www.who.int/news/item/19-10-2023-who-outlines-considerations-for-regulation-of-artificial-intelligence-for-health to /tmp/news-item-19-10-2023-who-outlines-considerations-for-regulation-of-artificial-intelligence-for-health.\n"
          ]
        },
        {
          "output_type": "stream",
          "name": "stdout",
          "text": [
            "0.7781412601470947\n",
            "0.14394283294677734\n"
          ]
        },
        {
          "output_type": "stream",
          "name": "stderr",
          "text": [
            "INFO:tika.tika:Retrieving https://www.politico.eu/article/vp-jd-vance-calls-europe-row-back-tech-regulation-ai-action-summit/ to /tmp/article-vp-jd-vance-calls-europe-row-back-tech-regulation-ai-action-summit.\n",
            "INFO:tika.tika:Retrieving https://stormconsultancy.co.uk/blog/business-insights/be-in-the-know-ai-legislation/ to /tmp/blog-business-insights-be-in-the-know-ai-legislation.\n"
          ]
        },
        {
          "output_type": "stream",
          "name": "stdout",
          "text": [
            "0.1297445297241211\n",
            "0.11220717430114746\n"
          ]
        },
        {
          "output_type": "stream",
          "name": "stderr",
          "text": [
            "INFO:tika.tika:Retrieving https://www.millerthomson.com/en/insights/publications/ai-governance-how-ai-is-regulated/ to /tmp/en-insights-publications-ai-governance-how-ai-is-regulated.\n",
            "INFO:tika.tika:Retrieving https://www.kirkland.com/publications/article/2025/03/considering-the-future-of-ai-regulation-on-health-sector to /tmp/publications-article-2025-03-considering-the-future-of-ai-regulation-on-health-sector.\n"
          ]
        },
        {
          "output_type": "stream",
          "name": "stdout",
          "text": [
            "0.15776371955871582\n",
            "0.1616380214691162\n"
          ]
        },
        {
          "output_type": "stream",
          "name": "stderr",
          "text": [
            "INFO:tika.tika:Retrieving https://aigovernance.co.uk/services/regulation/ to /tmp/services-regulation.\n",
            "INFO:tika.tika:Retrieving https://www.lewissilkin.com/insights/2025/03/06/uk-government-expected-to-delay-ai-bill-to-align-with-the-us-102k2zo to /tmp/insights-2025-03-06-uk-government-expected-to-delay-ai-bill-to-align-with-the-us-102k2zo.\n"
          ]
        },
        {
          "output_type": "stream",
          "name": "stdout",
          "text": [
            "0.22993850708007812\n",
            "0.13105154037475586\n"
          ]
        },
        {
          "output_type": "stream",
          "name": "stderr",
          "text": [
            "INFO:tika.tika:Retrieving https://www.burges-salmon.com/articles/102ibx9/ai-regulation-in-the-uk-government-white-paper-published/ to /tmp/articles-102ibx9-ai-regulation-in-the-uk-government-white-paper-published.\n",
            "INFO:tika.tika:Retrieving https://www.computing.co.uk/news-analysis/2025/ai-regulation-bill-introduced-in-house-of-lords to /tmp/news-analysis-2025-ai-regulation-bill-introduced-in-house-of-lords.\n"
          ]
        },
        {
          "output_type": "stream",
          "name": "stdout",
          "text": [
            "0.7627379894256592\n",
            "0.1195371150970459\n"
          ]
        },
        {
          "output_type": "stream",
          "name": "stderr",
          "text": [
            "INFO:tika.tika:Retrieving https://trumpwhitehouse.archives.gov/ai/ to /tmp/ai.\n"
          ]
        },
        {
          "output_type": "stream",
          "name": "stdout",
          "text": [
            "0.1590101718902588\n"
          ]
        },
        {
          "output_type": "stream",
          "name": "stderr",
          "text": [
            "INFO:tika.tika:Retrieving https://iapp.org/certify/aigp/ to /tmp/certify-aigp.\n"
          ]
        },
        {
          "output_type": "stream",
          "name": "stdout",
          "text": [
            "0.22792959213256836\n"
          ]
        },
        {
          "output_type": "stream",
          "name": "stderr",
          "text": [
            "INFO:tika.tika:Retrieving https://www.cnbc.com/2025/01/06/artificial-intelligence-regulation-in-2025-musk-and-trump-eu-ai-act.html to /tmp/2025-01-06-artificial-intelligence-regulation-in-2025-musk-and-trump-eu-ai-act.html.\n",
            "INFO:tika.tika:Retrieving https://www.taylorwessing.com/en/synapse/2025/ai-in-life-sciences/uk-approach-to-regulating-ai-in-life-sciences to /tmp/en-synapse-2025-ai-in-life-sciences-uk-approach-to-regulating-ai-in-life-sciences.\n"
          ]
        },
        {
          "output_type": "stream",
          "name": "stdout",
          "text": [
            "1.3292286396026611\n",
            "0.11288666725158691\n"
          ]
        },
        {
          "output_type": "stream",
          "name": "stderr",
          "text": [
            "INFO:tika.tika:Retrieving https://www.gov.ie/en/press-release/441b7-ministers-burke-and-smyth-welcome-government-approval-of-roadmap-for-implementing-the-eu-artificial-intelligence-act/ to /tmp/en-press-release-441b7-ministers-burke-and-smyth-welcome-government-approval-of-roadmap-for-implementing-the-eu-artificial-intelligence-act.\n"
          ]
        },
        {
          "output_type": "stream",
          "name": "stdout",
          "text": [
            "3.994044303894043\n"
          ]
        },
        {
          "output_type": "stream",
          "name": "stderr",
          "text": [
            "INFO:tika.tika:Retrieving https://www.theguardian.com/technology/2024/mar/14/what-will-eu-proposed-regulation-ai-mean-consumers to /tmp/technology-2024-mar-14-what-will-eu-proposed-regulation-ai-mean-consumers.\n"
          ]
        },
        {
          "output_type": "stream",
          "name": "stdout",
          "text": [
            "2.665557384490967\n"
          ]
        },
        {
          "output_type": "stream",
          "name": "stderr",
          "text": [
            "INFO:tika.tika:Retrieving https://www.csis.org/analysis/japans-approach-ai-regulation-and-its-impact-2023-g7-presidency to /tmp/analysis-japans-approach-ai-regulation-and-its-impact-2023-g7-presidency.\n"
          ]
        },
        {
          "output_type": "stream",
          "name": "stdout",
          "text": [
            "0.8029580116271973\n"
          ]
        },
        {
          "output_type": "stream",
          "name": "stderr",
          "text": [
            "INFO:tika.tika:Retrieving https://iari.site/2025/03/07/eus-ai-dilemma-balancing-regulation-competitiveness-and-global-pressures/ to /tmp/2025-03-07-eus-ai-dilemma-balancing-regulation-competitiveness-and-global-pressures.\n"
          ]
        },
        {
          "output_type": "stream",
          "name": "stdout",
          "text": [
            "1.6930837631225586\n"
          ]
        },
        {
          "output_type": "stream",
          "name": "stderr",
          "text": [
            "INFO:tika.tika:Retrieving https://www.digital.gov.au/policy/ai/policy to /tmp/policy-ai-policy.\n"
          ]
        },
        {
          "output_type": "stream",
          "name": "stdout",
          "text": [
            "1.2857568264007568\n"
          ]
        },
        {
          "output_type": "stream",
          "name": "stderr",
          "text": [
            "INFO:tika.tika:Retrieving https://www.federalregister.gov/documents/2025/02/06/2025-02305/request-for-information-on-the-development-of-an-artificial-intelligence-ai-action-plan to /tmp/documents-2025-02-06-2025-02305-request-for-information-on-the-development-of-an-artificial-intelligence-ai-action-plan.\n"
          ]
        },
        {
          "output_type": "stream",
          "name": "stdout",
          "text": [
            "60.00094413757324\n"
          ]
        },
        {
          "output_type": "stream",
          "name": "stderr",
          "text": [
            "INFO:tika.tika:Retrieving https://www.eversheds-sutherland.com/en/united-states/insights/implications-of-the-eu-ai-act-for-competition-law to /tmp/en-united-states-insights-implications-of-the-eu-ai-act-for-competition-law.\n"
          ]
        },
        {
          "output_type": "stream",
          "name": "stdout",
          "text": [
            "0.6112351417541504\n"
          ]
        },
        {
          "output_type": "stream",
          "name": "stderr",
          "text": [
            "INFO:tika.tika:Retrieving https://www.gzeromedia.com/tag/ai-regulation to /tmp/tag-ai-regulation.\n"
          ]
        },
        {
          "output_type": "stream",
          "name": "stdout",
          "text": [
            "2.955352544784546\n"
          ]
        },
        {
          "output_type": "stream",
          "name": "stderr",
          "text": [
            "INFO:tika.tika:Retrieving https://www.herbertsmithfreehills.com/insights/2025-02/what-you-need-to-know-about-ai-disputes to /tmp/insights-2025-02-what-you-need-to-know-about-ai-disputes.\n"
          ]
        },
        {
          "output_type": "stream",
          "name": "stdout",
          "text": [
            "0.8991422653198242\n"
          ]
        },
        {
          "output_type": "stream",
          "name": "stderr",
          "text": [
            "INFO:tika.tika:Retrieving https://www.standard.co.uk/news/tech/eu-ai-act-artificial-intelligence-regulation-government-rules-b1080361.html to /tmp/news-tech-eu-ai-act-artificial-intelligence-regulation-government-rules-b1080361.html.\n",
            "INFO:tika.tika:Retrieving https://www.wolterskluwer.com/en/expert-insights/keeping-pace-with-artificial-intelligence-third-party-risk-management to /tmp/en-expert-insights-keeping-pace-with-artificial-intelligence-third-party-risk-management.\n"
          ]
        },
        {
          "output_type": "stream",
          "name": "stdout",
          "text": [
            "1.388512372970581\n",
            "0.14957213401794434\n"
          ]
        },
        {
          "output_type": "stream",
          "name": "stderr",
          "text": [
            "INFO:tika.tika:Retrieving https://www.unesco.org/en/artificial-intelligence to /tmp/en-artificial-intelligence.\n"
          ]
        },
        {
          "output_type": "stream",
          "name": "stdout",
          "text": [
            "0.15195035934448242\n"
          ]
        },
        {
          "output_type": "stream",
          "name": "stderr",
          "text": [
            "INFO:tika.tika:Retrieving https://www.mckinsey.com/capabilities/mckinsey-digital/our-insights/superagency-in-the-workplace-empowering-people-to-unlock-ais-full-potential-at-work to /tmp/capabilities-mckinsey-digital-our-insights-superagency-in-the-workplace-empowering-people-to-unlock-ais-full-potential-at-work.\n"
          ]
        },
        {
          "output_type": "stream",
          "name": "stdout",
          "text": [
            "1.4341564178466797\n"
          ]
        },
        {
          "output_type": "stream",
          "name": "stderr",
          "text": [
            "INFO:tika.tika:Retrieving https://www.dlapiperdataprotection.com to /tmp/file_1749051484.\n",
            "INFO:tika.tika:Retrieving https://www.russellgroup.ac.uk/news/russell-group-hosts-dutch-universities-discuss-ai-education to /tmp/news-russell-group-hosts-dutch-universities-discuss-ai-education.\n"
          ]
        },
        {
          "output_type": "stream",
          "name": "stdout",
          "text": [
            "3.8464901447296143\n",
            "0.15275239944458008\n"
          ]
        },
        {
          "output_type": "stream",
          "name": "stderr",
          "text": [
            "INFO:tika.tika:Retrieving https://builtin.com/artificial-intelligence/risks-of-artificial-intelligence to /tmp/artificial-intelligence-risks-of-artificial-intelligence.\n",
            "INFO:tika.tika:Retrieving https://www.mondaq.com/uk/new-technology/1592798/introducing-the-eu-ai-act to /tmp/uk-new-technology-1592798-introducing-the-eu-ai-act.\n"
          ]
        },
        {
          "output_type": "stream",
          "name": "stdout",
          "text": [
            "0.6076104640960693\n",
            "0.1562812328338623\n"
          ]
        },
        {
          "output_type": "stream",
          "name": "stderr",
          "text": [
            "INFO:tika.tika:Retrieving https://hai.stanford.edu/news/ai-action-summit-in-paris-highlights-a-shifting-policy-landscape to /tmp/news-ai-action-summit-in-paris-highlights-a-shifting-policy-landscape.\n"
          ]
        },
        {
          "output_type": "stream",
          "name": "stdout",
          "text": [
            "0.09151792526245117\n"
          ]
        },
        {
          "output_type": "stream",
          "name": "stderr",
          "text": [
            "INFO:tika.tika:Retrieving https://www.ithd.co.uk/eu-approves-ai-regulation-the-eu-ai-act/ to /tmp/eu-approves-ai-regulation-the-eu-ai-act.\n"
          ]
        },
        {
          "output_type": "stream",
          "name": "stdout",
          "text": [
            "2.999589204788208\n"
          ]
        },
        {
          "output_type": "stream",
          "name": "stderr",
          "text": [
            "INFO:tika.tika:Retrieving https://www.tlt.com/expertise/services/artificial-intelligence/ to /tmp/expertise-services-artificial-intelligence.\n"
          ]
        },
        {
          "output_type": "stream",
          "name": "stdout",
          "text": [
            "3.23673415184021\n"
          ]
        },
        {
          "output_type": "stream",
          "name": "stderr",
          "text": [
            "INFO:tika.tika:Retrieving https://transcend.io/blog/ai-ethics to /tmp/blog-ai-ethics.\n"
          ]
        },
        {
          "output_type": "stream",
          "name": "stdout",
          "text": [
            "0.23037123680114746\n"
          ]
        },
        {
          "output_type": "stream",
          "name": "stderr",
          "text": [
            "INFO:tika.tika:Retrieving https://www.livemint.com/opinion/columns/the-it-ministry-s-ai-regulation-report-is-broadly-welcome-but-not-entirely-artificial-intelligence-data-privacy-law-11736751555966.html to /tmp/opinion-columns-the-it-ministry-s-ai-regulation-report-is-broadly-welcome-but-not-entirely-artificial-intelligence-data-privacy-law-11736751555966.html.\n"
          ]
        },
        {
          "output_type": "stream",
          "name": "stdout",
          "text": [
            "1.3330707550048828\n"
          ]
        },
        {
          "output_type": "stream",
          "name": "stderr",
          "text": [
            "INFO:tika.tika:Retrieving https://www.pinsentmasons.com/out-law/news/ireland-ai-advisory-council-targeted-policies-investment to /tmp/out-law-news-ireland-ai-advisory-council-targeted-policies-investment.\n"
          ]
        },
        {
          "output_type": "stream",
          "name": "stdout",
          "text": [
            "0.5611972808837891\n"
          ]
        },
        {
          "output_type": "stream",
          "name": "stderr",
          "text": [
            "INFO:tika.tika:Retrieving https://www.swissinfo.ch/eng/science/why-chinas-approach-to-ai-intrigues-switzerland/88870403 to /tmp/eng-science-why-chinas-approach-to-ai-intrigues-switzerland-88870403.\n"
          ]
        },
        {
          "output_type": "stream",
          "name": "stdout",
          "text": [
            "2.3202478885650635\n"
          ]
        },
        {
          "output_type": "stream",
          "name": "stderr",
          "text": [
            "INFO:tika.tika:Retrieving https://www.minterellison.com/articles/ai-and-healthcare-summary-of-commonwealth-consultations to /tmp/articles-ai-and-healthcare-summary-of-commonwealth-consultations.\n",
            "INFO:tika.tika:Retrieving https://bectu.org.uk/news/ipo-consultation-on-copyright-and-ai to /tmp/news-ipo-consultation-on-copyright-and-ai.\n"
          ]
        },
        {
          "output_type": "stream",
          "name": "stdout",
          "text": [
            "2.356981039047241\n",
            "0.12323498725891113\n"
          ]
        },
        {
          "output_type": "stream",
          "name": "stderr",
          "text": [
            "INFO:tika.tika:Retrieving https://www.uottawa.ca/faculty-law/news-all/new-era-ai-governance-professor-celine-castets-renard-forefront-ais-regulatory-future to /tmp/faculty-law-news-all-new-era-ai-governance-professor-celine-castets-renard-forefront-ais-regulatory-future.\n",
            "INFO:tika.tika:Retrieving https://www.fisherphillips.com/en/news-insights/california-introduces-another-ai-anti-discrimination-bill.html to /tmp/en-news-insights-california-introduces-another-ai-anti-discrimination-bill.html.\n"
          ]
        },
        {
          "output_type": "stream",
          "name": "stdout",
          "text": [
            "0.13602328300476074\n",
            "0.2000129222869873\n"
          ]
        },
        {
          "output_type": "stream",
          "name": "stderr",
          "text": [
            "INFO:tika.tika:Retrieving https://www.gblegal.org/post/the-eu-ai-regulation-act-the-start-of-a-new-era-of-artificial-intelligence-regulation to /tmp/post-the-eu-ai-regulation-act-the-start-of-a-new-era-of-artificial-intelligence-regulation.\n"
          ]
        },
        {
          "output_type": "stream",
          "name": "stdout",
          "text": [
            "0.1266930103302002\n"
          ]
        },
        {
          "output_type": "stream",
          "name": "stderr",
          "text": [
            "INFO:tika.tika:Retrieving https://www.businesswire.com/news/home/20250304657219/en/Industry-and-Academia-Discuss-AI-Explainability-and-Its-Immediate-Impact-in-Expert-Panel to /tmp/news-home-20250304657219-en-industry-and-academia-discuss-ai-explainability-and-its-immediate-impact-in-expert-panel.\n"
          ]
        },
        {
          "output_type": "stream",
          "name": "stdout",
          "text": [
            "0.2195262908935547\n"
          ]
        }
      ]
    },
    {
      "cell_type": "code",
      "source": [
        "from IPython.display import display\n",
        "\n",
        "#Calculate mean polarity score\n",
        "averagesentiment = processeddata['polarity'].mean()\n",
        "print(averagesentiment)\n",
        "\n",
        "print(\"\\nProcessed Data:\")\n",
        "display(processeddata)\n",
        "\n",
        "#Contextualise results\n",
        "def polarityrange(percentage):\n",
        "    polarityscores = processeddata['polarity']\n",
        "    lowerpercentile = (1 - percentage) / 2\n",
        "    upperpercentile = 1 - lowerpercentile\n",
        "\n",
        "    lowerbound = polarityscores.quantile(lowerpercentile)\n",
        "    upperbound = polarityscores.quantile(upperpercentile)\n",
        "\n",
        "    print(lowerbound)\n",
        "    print(upperbound)\n",
        "\n",
        "polarityrange(0.75)\n",
        "polarityrange(0.90)"
      ],
      "metadata": {
        "colab": {
          "base_uri": "https://localhost:8080/",
          "height": 207
        },
        "id": "f5L39g2meMBe",
        "outputId": "7e571b9f-8b81-40e8-ddb7-73e6b119e7fe"
      },
      "execution_count": 1,
      "outputs": [
        {
          "output_type": "error",
          "ename": "NameError",
          "evalue": "name 'processeddata' is not defined",
          "traceback": [
            "\u001b[0;31m---------------------------------------------------------------------------\u001b[0m",
            "\u001b[0;31mNameError\u001b[0m                                 Traceback (most recent call last)",
            "\u001b[0;32m<ipython-input-1-77a6c49cd575>\u001b[0m in \u001b[0;36m<cell line: 0>\u001b[0;34m()\u001b[0m\n\u001b[1;32m      2\u001b[0m \u001b[0;34m\u001b[0m\u001b[0m\n\u001b[1;32m      3\u001b[0m \u001b[0;31m#Calculate mean polarity score\u001b[0m\u001b[0;34m\u001b[0m\u001b[0;34m\u001b[0m\u001b[0m\n\u001b[0;32m----> 4\u001b[0;31m \u001b[0maveragesentiment\u001b[0m \u001b[0;34m=\u001b[0m \u001b[0mprocesseddata\u001b[0m\u001b[0;34m[\u001b[0m\u001b[0;34m'polarity'\u001b[0m\u001b[0;34m]\u001b[0m\u001b[0;34m.\u001b[0m\u001b[0mmean\u001b[0m\u001b[0;34m(\u001b[0m\u001b[0;34m)\u001b[0m\u001b[0;34m\u001b[0m\u001b[0;34m\u001b[0m\u001b[0m\n\u001b[0m\u001b[1;32m      5\u001b[0m \u001b[0mprint\u001b[0m\u001b[0;34m(\u001b[0m\u001b[0maveragesentiment\u001b[0m\u001b[0;34m)\u001b[0m\u001b[0;34m\u001b[0m\u001b[0;34m\u001b[0m\u001b[0m\n\u001b[1;32m      6\u001b[0m \u001b[0;34m\u001b[0m\u001b[0m\n",
            "\u001b[0;31mNameError\u001b[0m: name 'processeddata' is not defined"
          ]
        }
      ]
    }
  ]
}